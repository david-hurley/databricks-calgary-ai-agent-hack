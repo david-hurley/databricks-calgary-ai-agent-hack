{
 "cells": [
  {
   "cell_type": "markdown",
   "metadata": {
    "application/vnd.databricks.v1+cell": {
     "cellMetadata": {
      "byteLimit": 2048000,
      "rowLimit": 10000
     },
     "inputWidgets": {},
     "nuid": "dc04dcd3-4739-467e-a813-9c7d12049ec3",
     "showTitle": false,
     "tableResultSettingsMap": {},
     "title": ""
    }
   },
   "source": [
    "#001-setup\n",
    "### DO NOT MODIFY - RUN \"AS IS\""
   ]
  },
  {
   "cell_type": "code",
   "execution_count": 0,
   "metadata": {
    "application/vnd.databricks.v1+cell": {
     "cellMetadata": {
      "byteLimit": 2048000,
      "rowLimit": 10000
     },
     "inputWidgets": {},
     "nuid": "956c5834-8cec-4bef-80dd-730680815bfb",
     "showTitle": false,
     "tableResultSettingsMap": {},
     "title": ""
    }
   },
   "outputs": [
    {
     "output_type": "stream",
     "name": "stdout",
     "output_type": "stream",
     "text": [
      "Requirement already satisfied: pandas in /databricks/python3/lib/python3.12/site-packages (2.2.3)\nRequirement already satisfied: numpy>=1.26.0 in /databricks/python3/lib/python3.12/site-packages (from pandas) (2.1.3)\nRequirement already satisfied: python-dateutil>=2.8.2 in /databricks/python3/lib/python3.12/site-packages (from pandas) (2.9.0.post0)\nRequirement already satisfied: pytz>=2020.1 in /databricks/python3/lib/python3.12/site-packages (from pandas) (2024.1)\nRequirement already satisfied: tzdata>=2022.7 in /databricks/python3/lib/python3.12/site-packages (from pandas) (2024.1)\nRequirement already satisfied: six>=1.5 in /usr/lib/python3/dist-packages (from python-dateutil>=2.8.2->pandas) (1.16.0)\n\u001B[43mNote: you may need to restart the kernel using %restart_python or dbutils.library.restartPython() to use updated packages.\u001B[0m\n"
     ]
    }
   ],
   "source": [
    "%pip install pandas\n",
    "dbutils.library.restartPython()"
   ]
  },
  {
   "cell_type": "code",
   "execution_count": 0,
   "metadata": {
    "application/vnd.databricks.v1+cell": {
     "cellMetadata": {
      "byteLimit": 2048000,
      "rowLimit": 10000
     },
     "inputWidgets": {},
     "nuid": "626ec309-d3d8-4501-9aa5-ff5316e24a1a",
     "showTitle": false,
     "tableResultSettingsMap": {},
     "title": ""
    }
   },
   "outputs": [],
   "source": [
    "import pandas as pd"
   ]
  },
  {
   "cell_type": "code",
   "execution_count": 0,
   "metadata": {
    "application/vnd.databricks.v1+cell": {
     "cellMetadata": {
      "byteLimit": 2048000,
      "rowLimit": 10000
     },
     "inputWidgets": {},
     "nuid": "2490b04a-e31a-40d5-93b4-afba48e08a5a",
     "showTitle": false,
     "tableResultSettingsMap": {},
     "title": ""
    }
   },
   "outputs": [],
   "source": [
    "catalog = \"calgary_agent_hackathon\"\n",
    "schema = \"alberta_well_water_data\""
   ]
  },
  {
   "cell_type": "code",
   "execution_count": 0,
   "metadata": {
    "application/vnd.databricks.v1+cell": {
     "cellMetadata": {
      "byteLimit": 2048000,
      "implicitDf": true,
      "rowLimit": 10000
     },
     "inputWidgets": {},
     "nuid": "99a14bf4-6b17-4d44-bf25-75647bdebbe0",
     "showTitle": false,
     "tableResultSettingsMap": {},
     "title": ""
    }
   },
   "outputs": [
    {
     "output_type": "execute_result",
     "data": {
      "text/plain": [
       "DataFrame[]"
      ]
     },
     "execution_count": 3,
     "metadata": {},
     "output_type": "execute_result"
    }
   ],
   "source": [
    "spark.sql(f\"\"\"CREATE CATALOG IF NOT EXISTS {catalog}\"\"\")\n",
    "spark.sql(f\"\"\"CREATE SCHEMA IF NOT EXISTS {catalog}.{schema}\"\"\")"
   ]
  },
  {
   "cell_type": "code",
   "execution_count": 0,
   "metadata": {
    "application/vnd.databricks.v1+cell": {
     "cellMetadata": {
      "byteLimit": 2048000,
      "rowLimit": 10000
     },
     "inputWidgets": {},
     "nuid": "bd3878f5-d207-435e-9e52-78df26834d30",
     "showTitle": false,
     "tableResultSettingsMap": {},
     "title": ""
    }
   },
   "outputs": [
    {
     "output_type": "stream",
     "name": "stdout",
     "output_type": "stream",
     "text": [
      "Created calgary_agent_hackathon.alberta_well_water_data.alberta_wdrill_boreholes.csv\nCreated calgary_agent_hackathon.alberta_well_water_data.alberta_wdrill_driller_drilling_company.csv\nCreated calgary_agent_hackathon.alberta_well_water_data.alberta_wdrill_drillers.csv\nCreated calgary_agent_hackathon.alberta_well_water_data.alberta_wdrill_drilling_companies.csv\nCreated calgary_agent_hackathon.alberta_well_water_data.alberta_wdrill_other_seals.csv\nCreated calgary_agent_hackathon.alberta_well_water_data.alberta_wdrill_perforations.csv\nCreated calgary_agent_hackathon.alberta_well_water_data.alberta_wdrill_pump_test_items.csv\nCreated calgary_agent_hackathon.alberta_well_water_data.alberta_wdrill_screens.csv\nCreated calgary_agent_hackathon.alberta_well_water_data.alberta_wdrill_well_owners.csv\nCreated calgary_agent_hackathon.alberta_well_water_data.alberta_wdrill_wells.csv\nCreated calgary_agent_hackathon.alberta_well_water_data.alberta_wtest_bacterio_analysis_info.csv\nCreated calgary_agent_hackathon.alberta_well_water_data.alberta_wtest_bacterio_details.csv\nCreated calgary_agent_hackathon.alberta_well_water_data.alberta_wtest_exceedances.csv\nCreated calgary_agent_hackathon.alberta_well_water_data.alberta_wtest_field_notes.csv\nCreated calgary_agent_hackathon.alberta_well_water_data.alberta_wtest_field_personnel.csv\nCreated calgary_agent_hackathon.alberta_well_water_data.alberta_wtest_gas_analysis_info.csv\nCreated calgary_agent_hackathon.alberta_well_water_data.alberta_wtest_gas_details.csv\nCreated calgary_agent_hackathon.alberta_well_water_data.alberta_wtest_gcdwq_standard.csv\nCreated calgary_agent_hackathon.alberta_well_water_data.alberta_wtest_iso_analysis_info.csv\nCreated calgary_agent_hackathon.alberta_well_water_data.alberta_wtest_iso_details.csv\nCreated calgary_agent_hackathon.alberta_well_water_data.alberta_wtest_well.csv\nCreated calgary_agent_hackathon.alberta_well_water_data.alberta_wtest_well_measures.csv\nCreated calgary_agent_hackathon.alberta_well_water_data.alberta_wtest_well_owner.csv\nCreated calgary_agent_hackathon.alberta_well_water_data.alberta_wtest_well_test.csv\nCreated calgary_agent_hackathon.alberta_well_water_data.alberta_wtest_wqual_analysis_info.csv\nCreated calgary_agent_hackathon.alberta_well_water_data.alberta_wtest_wqual_details.csv\nCreated calgary_agent_hackathon.alberta_well_water_data.alberta_wtest_yield_hour\nCreated calgary_agent_hackathon.alberta_well_water_data.alberta_wtest_yield_test.csv\nCreated calgary_agent_hackathon.alberta_well_water_data.alberta_wtest_yield_test_field_parameters.csv\n"
     ]
    }
   ],
   "source": [
    "# create Delta table for non-partitioned csv\n",
    "csv_to_create_tables_for = [\n",
    "    \"alberta_wdrill_boreholes.csv\",\n",
    "    \"alberta_wdrill_driller_drilling_company.csv\",\n",
    "    \"alberta_wdrill_drillers.csv\",\n",
    "    \"alberta_wdrill_drilling_companies.csv\",\n",
    "    \"alberta_wdrill_other_seals.csv\",\n",
    "    \"alberta_wdrill_perforations.csv\",\n",
    "    \"alberta_wdrill_pump_test_items.csv\",\n",
    "    \"alberta_wdrill_screens.csv\",\n",
    "    \"alberta_wdrill_well_owners.csv\",\n",
    "    \"alberta_wdrill_wells.csv\",\n",
    "    \"alberta_wtest_bacterio_analysis_info.csv\",\n",
    "    \"alberta_wtest_bacterio_details.csv\",\n",
    "    \"alberta_wtest_exceedances.csv\",\n",
    "    \"alberta_wtest_field_notes.csv\",\n",
    "    \"alberta_wtest_field_personnel.csv\",\n",
    "    \"alberta_wtest_gas_analysis_info.csv\",\n",
    "    \"alberta_wtest_gas_details.csv\",\n",
    "    \"alberta_wtest_gcdwq_standard.csv\",\n",
    "    \"alberta_wtest_iso_analysis_info.csv\",\n",
    "    \"alberta_wtest_iso_details.csv\",\n",
    "    \"alberta_wtest_well.csv\",\n",
    "    \"alberta_wtest_well_measures.csv\",\n",
    "    \"alberta_wtest_well_owner.csv\",\n",
    "    \"alberta_wtest_well_test.csv\",\n",
    "    \"alberta_wtest_wqual_analysis_info.csv\",\n",
    "    \"alberta_wtest_wqual_details.csv\",\n",
    "    \"alberta_wtest_yield_hour\",\n",
    "    \"alberta_wtest_yield_test.csv\",\n",
    "    \"alberta_wtest_yield_test_field_parameters.csv\"\n",
    "]\n",
    "\n",
    "for filename in csv_to_create_tables_for:\n",
    "    df = pd.read_csv(f\"data/{filename}\", low_memory=False)\n",
    "    spark_df = spark.createDataFrame(df)\n",
    "    spark_df.write.mode(\"overwrite\").saveAsTable(f\"{catalog}.{schema}.{filename.split(\".csv\")[0]}\")\n",
    "    print(f\"Created {catalog}.{schema}.{filename}\")"
   ]
  },
  {
   "cell_type": "code",
   "execution_count": 0,
   "metadata": {
    "application/vnd.databricks.v1+cell": {
     "cellMetadata": {
      "byteLimit": 2048000,
      "rowLimit": 10000
     },
     "inputWidgets": {},
     "nuid": "52dbb5c9-df5d-4bbf-9ed5-0086786c3d0e",
     "showTitle": false,
     "tableResultSettingsMap": {},
     "title": ""
    }
   },
   "outputs": [
    {
     "output_type": "stream",
     "name": "stdout",
     "output_type": "stream",
     "text": [
      "Created calgary_agent_hackathon.alberta_well_water_data.alberta_wdrill_lithologies\n"
     ]
    }
   ],
   "source": [
    "# create Delta table for partitioned lithology\n",
    "df1 = pd.read_csv(\"data/alberta_wdrill_lithologies_1.csv\", low_memory=False)\n",
    "df2 = pd.read_csv(\"data/alberta_wdrill_lithologies_2.csv\", low_memory=False)\n",
    "combined_df = pd.concat([df1, df2], ignore_index=True, sort=False)\n",
    "\n",
    "spark_df = spark.createDataFrame(combined_df)\n",
    "spark_df.write.mode(\"overwrite\").saveAsTable(f\"{catalog}.{schema}.alberta_wdrill_lithologies\")\n",
    "print(f\"Created {catalog}.{schema}.alberta_wdrill_lithologies\")"
   ]
  },
  {
   "cell_type": "code",
   "execution_count": 0,
   "metadata": {
    "application/vnd.databricks.v1+cell": {
     "cellMetadata": {
      "byteLimit": 2048000,
      "rowLimit": 10000
     },
     "inputWidgets": {},
     "nuid": "b6896c6b-af80-427d-8bc5-f31ee297b0a5",
     "showTitle": false,
     "tableResultSettingsMap": {},
     "title": ""
    }
   },
   "outputs": [
    {
     "output_type": "stream",
     "name": "stdout",
     "output_type": "stream",
     "text": [
      "Created calgary_agent_hackathon.alberta_well_water_data.alberta_wdrill_well_reports\n"
     ]
    }
   ],
   "source": [
    "# create Delta table for partitioned well reports\n",
    "df1 = pd.read_csv(\"data/alberta_wdrill_well_reports_1.csv\", low_memory=False)\n",
    "df2 = pd.read_csv(\"data/alberta_wdrill_well_reports_2.csv\", low_memory=False)\n",
    "df3 = pd.read_csv(\"data/alberta_wdrill_well_reports_3.csv\", low_memory=False)\n",
    "df4 = pd.read_csv(\"data/alberta_wdrill_well_reports_4.csv\", low_memory=False)\n",
    "combined_df = pd.concat([df1, df2, df3, df4], ignore_index=True, sort=False)\n",
    "\n",
    "spark_df = spark.createDataFrame(combined_df)\n",
    "spark_df.write.mode(\"overwrite\").saveAsTable(f\"{catalog}.{schema}.alberta_wdrill_well_reports\")\n",
    "print(f\"Created {catalog}.{schema}.alberta_wdrill_well_reports\")"
   ]
  },
  {
   "cell_type": "code",
   "execution_count": 0,
   "metadata": {
    "application/vnd.databricks.v1+cell": {
     "cellMetadata": {},
     "inputWidgets": {},
     "nuid": "18e423f3-28c8-4694-b5e3-15adb2ac17be",
     "showTitle": false,
     "tableResultSettingsMap": {},
     "title": ""
    }
   },
   "outputs": [],
   "source": []
  }
 ],
 "metadata": {
  "application/vnd.databricks.v1+notebook": {
   "computePreferences": null,
   "dashboards": [],
   "environmentMetadata": {
    "base_environment": "",
    "environment_version": "4"
   },
   "inputWidgetPreferences": null,
   "language": "python",
   "notebookMetadata": {
    "mostRecentlyExecutedCommandWithImplicitDF": {
     "commandId": 6066074196542480,
     "dataframes": [
      "_sqldf"
     ]
    },
    "pythonIndentUnit": 4
   },
   "notebookName": "001-setup",
   "widgets": {}
  },
  "language_info": {
   "name": "python"
  }
 },
 "nbformat": 4,
 "nbformat_minor": 0
}